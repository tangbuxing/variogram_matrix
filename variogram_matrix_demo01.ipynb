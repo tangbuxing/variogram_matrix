{
 "cells": [
  {
   "cell_type": "markdown",
   "metadata": {},
   "source": [
    "# variogram_matrix(VGM, 变化图检验)概述\n",
    "---------------\n",
    "<font face=\"黑体\" color=Black size=5>\n",
    "<br>变化图为相距一定距离的两点取值之差的概率分布图。计算步骤为：<br>\n",
    "<br>•1，以某点为中心,计算相距L的点集和该点之差的绝对值平均V,得到一个随L变化的序列。<br>\n",
    "<br>•2，对所有的点重复步骤1。<br>\n",
    "<br>•3，将步骤2的结果绘制成以距离L和差值V为坐标的概率图（变化图），如图8。<br>\n",
    "<br>变化图检验：比较预报场的变化图和分析场变化图的差别（文中没有给具体的评分方法）。<br>\n",
    "</font>"
   ]
  },
  {
   "cell_type": "markdown",
   "metadata": {},
   "source": [
    "## 参数说明\n",
    "--------------\n",
    "<font face=\"黑体\" color=Blue size=3>**look_VGM = variogram_matrix(grd, R = 5, dx=1, dy=1, zero_out=False)**</font>"
   ]
  },
  {
   "cell_type": "markdown",
   "metadata": {},
   "source": [
    "|参数|说明|备注|\n",
    "|:---|:--:|:---|\n",
    "|**<font face=\"黑体\" color=Blue size=5>grd</font>**|格点场||\n",
    "|**<font face=\"黑体\" color=Blue size=5>R</font>**|假设网格点每部分间隔一个单位，求变差函数差异的最大半径|默认情况下，R=5,半径为5*max(dx，dy)|\n",
    "|**<font face=\"黑体\" color=Blue size=5>dx</font>**|X轴上栅格点的间距||\n",
    "|**<font face=\"黑体\" color=Blue size=5>dy</font>**|y轴上栅格点的间距||\n",
    "|**<font face=\"黑体\" color=Black size=5>zero.out</font>**|是否将格点场中的0值赋值为'NULL'|默认为False|"
   ]
  },
  {
   "cell_type": "markdown",
   "metadata": {},
   "source": [
    "## 调用示例\n",
    "---------------"
   ]
  },
  {
   "cell_type": "code",
   "execution_count": null,
   "metadata": {},
   "outputs": [],
   "source": [
    "look_VGM = variogram_matrix(grd)"
   ]
  },
  {
   "cell_type": "markdown",
   "metadata": {},
   "source": [
    "## 计算结果\n",
    "--------------"
   ]
  },
  {
   "cell_type": "markdown",
   "metadata": {},
   "source": [
    "|变量|说明|备注|\n",
    "|:---|:--:|:---|\n",
    "|**<font face=\"黑体\" color=Blue size=5>d</font>**|距离差||\n",
    "|**<font face=\"黑体\" color=Blue size=5>vgram</font>**|变异值|忽略方向的传统变异值|\n",
    "|**<font face=\"黑体\" color=Blue size=5>vgram.full</font>**|每个分离点的变异函数||\n",
    "|**<font face=\"黑体\" color=Blue size=5>d.full</font>**|距离R上所有可能位移的距离向量||\n",
    "|**<font face=\"黑体\" color=Blue size=5>ind</font>**|两列矩阵，给出用于计算位移的x和y增量||\n",
    "|**<font face=\"黑体\" color=Blue size=5>N</font>**|分离case之间的差||\n",
    "|**<font face=\"黑体\" color=Blue size=5>dx, dy</font>**|结构误差|反映的是各目标质量分布的不均匀性，如果质量分布均匀则为1。|"
   ]
  },
  {
   "cell_type": "code",
   "execution_count": null,
   "metadata": {},
   "outputs": [],
   "source": []
  }
 ],
 "metadata": {
  "kernelspec": {
   "display_name": "Python 3",
   "language": "python",
   "name": "python3"
  },
  "language_info": {
   "codemirror_mode": {
    "name": "ipython",
    "version": 3
   },
   "file_extension": ".py",
   "mimetype": "text/x-python",
   "name": "python",
   "nbconvert_exporter": "python",
   "pygments_lexer": "ipython3",
   "version": "3.8.5"
  }
 },
 "nbformat": 4,
 "nbformat_minor": 4
}
